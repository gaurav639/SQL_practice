{
  "cells": [
    {
      "cell_type": "markdown",
      "id": "b3d08535",
      "metadata": {
        "id": "b3d08535"
      },
      "source": [
        "<img src=\"https://raw.githubusercontent.com/afo/data-x-plaksha/master/imgsource/dx_logo.png\" align=\"left\"></img><br><br><br><br>"
      ]
    },
    {
      "cell_type": "markdown",
      "id": "4c408082",
      "metadata": {
        "id": "4c408082"
      },
      "source": [
        "## Plaksha SQL assignment"
      ]
    },
    {
      "cell_type": "markdown",
      "id": "7f7d4113-c3a9-47b2-b7df-b844d49abd22",
      "metadata": {
        "id": "7f7d4113-c3a9-47b2-b7df-b844d49abd22"
      },
      "source": [
        "---\n",
        "\n",
        "## Submission details:\n",
        "\n",
        "Please submit this as a Jupyter Notebook and a PDF of your results (both should show output). Also push your solutions to Github.\n",
        "\n",
        "For the submision create a local database with `sqlite3` or `sqlalchemy` in a Jupyter notebook and make the queries either with a cursor object (and then print the results) or by using pandas `pd.read_sql_query()`."
      ]
    },
    {
      "cell_type": "markdown",
      "id": "0c551f03-7eff-43e2-89a7-a53b54098223",
      "metadata": {
        "id": "0c551f03-7eff-43e2-89a7-a53b54098223"
      },
      "source": [
        "___\n",
        "\n",
        "When completing this homework you can experiment with SQL commands by utilizing this great online editor:\n",
        "\n",
        "https://www.w3schools.com/sql/trysql.asp?filename=trysql_select_all\n",
        "\n",
        "There are already some tables in the online Database, namely:\n",
        "\n",
        "`Categories, Employees, OrderDetails, Orders, Products, Shippers, and Suppliers.`\n",
        "\n",
        "If you want you can drop them by running  `DROP TABLE [table-name];` (or just keep them)."
      ]
    },
    {
      "cell_type": "markdown",
      "id": "dccc820f-21b0-4b2c-9ca8-9cb9eab76023",
      "metadata": {
        "id": "dccc820f-21b0-4b2c-9ca8-9cb9eab76023"
      },
      "source": [
        "___\n",
        "\n",
        "## Exercises:\n",
        "\n",
        "First create a table called students. It has the columns: 'student_id', 'name', 'major', 'gpa' and 'enrollment_date' We will use a new form of `CREATE TABLE` expression to produce this table.\n",
        "\n",
        "Note that you can improve this and are welcome to do so -- e.g. by specifying for example a PRIMARY KEY and a FOREIGN KEY in Q2 :)\n",
        "\n",
        "    CREATE TABLE students AS\n",
        "        SELECT 1 AS student_id, \"John\" AS name, \"Computer Science\" AS major, 3.5 AS gpa, \"01-01-2022\" AS enrollment_date UNION\n",
        "        SELECT 2, \"Jane\", \"Physics\", 3.8, \"01-02-2022\" UNION\n",
        "        SELECT 3, \"Bob\", \"Engineering\", 3.0, \"01-03-2022\" UNION\n",
        "        SELECT 4, \"Samantha\", \"Physics\", 3.9, \"01-04-2022\" UNION\n",
        "        SELECT 5, \"James\", \"Engineering\", 3.7, \"01-05-2022\" UNION\n",
        "        SELECT 6, \"Emily\", \"Computer Science\", 3.6, \"01-06-2022\" UNION\n",
        "        SELECT 7, \"Michael\", \"Computer Science\", 3.2, \"01-07-2022\" UNION\n",
        "        SELECT 8, \"Jessica\", \"Engineering\", 3.8, \"01-08-2022\" UNION\n",
        "        SELECT 9, \"Jacob\", \"Physics\", 3.4, \"01-09-2022\" UNION\n",
        "        SELECT 10, \"Ashley\", \"Physics\", 3.9, \"01-10-2022\";\n",
        "\n",
        "\n",
        "## Q1 Simple SELECTS (on the students table)\n",
        "1. SELECT all records in the table.\n",
        "2. SELECT students whose major is \"Computer Science\".\n",
        "3. SELECT all unique majors (use SELECT DISTINCT) and order them by name, descending order (i.e. Physics first).\n",
        "4. SELECT all students that have an 'e' in their name and order them by gpa in ascending order.\n",
        "\n",
        "\n",
        "## Q2 Joins\n",
        "\n",
        "Create a new table called courses, which indicates the courses taken by the students. \n",
        "\n",
        "Create the table by running:\n",
        "\t\n",
        "    CREATE TABLE courses AS\n",
        "        SELECT 1 AS course_id, \"Python programming\" AS course_name, 1 AS student_id, \"A\" AS grade UNION\n",
        "        SELECT 2, \"Data Structures\", 2, \"B\" UNION\n",
        "        SELECT 3, \"Database Systems\", 3, \"B\" UNION\n",
        "        SELECT 1, \"Python programming\", 4, \"A\" UNION\n",
        "        SELECT 4, \"Quantum Mechanics\", 5, \"C\" UNION\n",
        "        SELECT 1, \"Python programming\", 6, \"F\" UNION\n",
        "        SELECT 2, \"Data Structures\", 7, \"C\" UNION\n",
        "        SELECT 3, \"Database Systems\", 8, \"A\" UNION\n",
        "        SELECT 4, \"Quantum Mechanics\", 9, \"A\" UNION\n",
        "        SELECT 2, \"Data Structures\", 10, \"F\";\n",
        "\n",
        "1. COUNT the number of unique courses.\n",
        "2. JOIN the tables students and courses and COUNT the number of students with the major Computer Science taking the course Python programming.\n",
        "3. JOIN the tables students and courses and select the students who have grades higher than \"C\", only show their name, major, gpa, course_name and grade.\n",
        "\n",
        "\n",
        "## Q3 Aggregate functions, numerical logic and grouping\n",
        "\n",
        "1. Find the average gpa of all students.\n",
        "2. SELECT the student with the maximum gpa, display only their student_id, major and gpa\n",
        "3. SELECT the student with the minimum gpa, display only their student_id, major and gpa\n",
        "4. SELECT the students with a gpa greater than 3.6 in the majors of \"Physics\" and \"Engineering\", display only their student_id, major and gpa\n",
        "5. Group the students by their major and retrieve the average grade of each major.\n",
        "6. SELECT the top 2 students with the highest GPA in each major and order the results by major in ascending order, then by GPA in descending order"
      ]
    },
    {
      "cell_type": "markdown",
      "id": "3ab84519",
      "metadata": {
        "id": "3ab84519"
      },
      "source": [
        "# Your solution"
      ]
    },
    {
      "cell_type": "code",
      "execution_count": 8,
      "id": "c7cff114",
      "metadata": {
        "id": "c7cff114"
      },
      "outputs": [],
      "source": [
        "import sqlite3"
      ]
    },
    {
      "cell_type": "code",
      "source": [
        "!ls"
      ],
      "metadata": {
        "colab": {
          "base_uri": "https://localhost:8080/"
        },
        "id": "3QzdHeqVsD1d",
        "outputId": "8f3f9630-1e71-4c57-d6bb-24dc28eee18e"
      },
      "id": "3QzdHeqVsD1d",
      "execution_count": 9,
      "outputs": [
        {
          "output_type": "stream",
          "name": "stdout",
          "text": [
            "sample_data\n"
          ]
        }
      ]
    },
    {
      "cell_type": "code",
      "source": [
        "# open connnection to a db file stored locally on disk\n",
        "# if file doesn't exist it is created\n",
        "connection = sqlite3.connect('students.db')"
      ],
      "metadata": {
        "id": "GwtMqb-psM-h"
      },
      "id": "GwtMqb-psM-h",
      "execution_count": 10,
      "outputs": []
    },
    {
      "cell_type": "code",
      "source": [
        "!ls"
      ],
      "metadata": {
        "colab": {
          "base_uri": "https://localhost:8080/"
        },
        "id": "7oLFgRh7snil",
        "outputId": "6b3ff497-fc25-4b73-896e-452717dd6e14"
      },
      "id": "7oLFgRh7snil",
      "execution_count": 11,
      "outputs": [
        {
          "output_type": "stream",
          "name": "stdout",
          "text": [
            "sample_data  students.db\n"
          ]
        }
      ]
    },
    {
      "cell_type": "code",
      "source": [
        "# In order to run SQL commands with\n",
        "# sqlite 3 we must create a cursor object\n",
        "# that traverses the database\n",
        "cursor = connection.cursor()"
      ],
      "metadata": {
        "id": "iP_L5z2zsp0J"
      },
      "id": "iP_L5z2zsp0J",
      "execution_count": 12,
      "outputs": []
    },
    {
      "cell_type": "markdown",
      "source": [
        "## Q1"
      ],
      "metadata": {
        "id": "WagNZhIB-BSy"
      },
      "id": "WagNZhIB-BSy"
    },
    {
      "cell_type": "code",
      "source": [
        "sql_cmd_1 = \"\"\"\n",
        "CREATE TABLE students AS\n",
        "    SELECT 1 AS student_id, \"John\" AS name, \"Computer Science\" AS major, 3.5 AS gpa, \"01-01-2022\" AS enrollment_date UNION\n",
        "    SELECT 2, \"Jane\", \"Physics\", 3.8, \"01-02-2022\" UNION\n",
        "    SELECT 3, \"Bob\", \"Engineering\", 3.0, \"01-03-2022\" UNION\n",
        "    SELECT 4, \"Samantha\", \"Physics\", 3.9, \"01-04-2022\" UNION\n",
        "    SELECT 5, \"James\", \"Engineering\", 3.7, \"01-05-2022\" UNION\n",
        "    SELECT 6, \"Emily\", \"Computer Science\", 3.6, \"01-06-2022\" UNION\n",
        "    SELECT 7, \"Michael\", \"Computer Science\", 3.2, \"01-07-2022\" UNION\n",
        "    SELECT 8, \"Jessica\", \"Engineering\", 3.8, \"01-08-2022\" UNION\n",
        "    SELECT 9, \"Jacob\", \"Physics\", 3.4, \"01-09-2022\" UNION\n",
        "    SELECT 10, \"Ashley\", \"Physics\", 3.9, \"01-10-2022\";\n",
        "\"\"\""
      ],
      "metadata": {
        "id": "9EVosxmRss3c"
      },
      "id": "9EVosxmRss3c",
      "execution_count": 13,
      "outputs": []
    },
    {
      "cell_type": "code",
      "source": [
        "# In order to run SQL command on the databse file\n",
        "# we have to execute them with the cursor\n",
        "cursor.execute(sql_cmd_1)"
      ],
      "metadata": {
        "colab": {
          "base_uri": "https://localhost:8080/"
        },
        "id": "FAYCWXKQ4iRg",
        "outputId": "a044830f-7f2e-4119-b211-00b86ee9c4d6"
      },
      "id": "FAYCWXKQ4iRg",
      "execution_count": 14,
      "outputs": [
        {
          "output_type": "execute_result",
          "data": {
            "text/plain": [
              "<sqlite3.Cursor at 0x7f6ab5d73f80>"
            ]
          },
          "metadata": {},
          "execution_count": 14
        }
      ]
    },
    {
      "cell_type": "markdown",
      "source": [
        "#### 1.1 SELECT all records in the table."
      ],
      "metadata": {
        "id": "gQ-7spUT5L83"
      },
      "id": "gQ-7spUT5L83"
    },
    {
      "cell_type": "code",
      "source": [
        "cmd1_1 = '''SELECT * FROM students;'''"
      ],
      "metadata": {
        "id": "Pv5EKUnW5mpP"
      },
      "id": "Pv5EKUnW5mpP",
      "execution_count": 15,
      "outputs": []
    },
    {
      "cell_type": "code",
      "source": [
        "cursor.execute(cmd1_1).fetchall()"
      ],
      "metadata": {
        "colab": {
          "base_uri": "https://localhost:8080/"
        },
        "id": "yD7G3WeQ4tss",
        "outputId": "1c0d0325-bc32-40e2-efac-6ed3313f9487"
      },
      "id": "yD7G3WeQ4tss",
      "execution_count": 16,
      "outputs": [
        {
          "output_type": "execute_result",
          "data": {
            "text/plain": [
              "[(1, 'John', 'Computer Science', 3.5, '01-01-2022'),\n",
              " (2, 'Jane', 'Physics', 3.8, '01-02-2022'),\n",
              " (3, 'Bob', 'Engineering', 3.0, '01-03-2022'),\n",
              " (4, 'Samantha', 'Physics', 3.9, '01-04-2022'),\n",
              " (5, 'James', 'Engineering', 3.7, '01-05-2022'),\n",
              " (6, 'Emily', 'Computer Science', 3.6, '01-06-2022'),\n",
              " (7, 'Michael', 'Computer Science', 3.2, '01-07-2022'),\n",
              " (8, 'Jessica', 'Engineering', 3.8, '01-08-2022'),\n",
              " (9, 'Jacob', 'Physics', 3.4, '01-09-2022'),\n",
              " (10, 'Ashley', 'Physics', 3.9, '01-10-2022')]"
            ]
          },
          "metadata": {},
          "execution_count": 16
        }
      ]
    },
    {
      "cell_type": "markdown",
      "source": [
        "#### 1.2 SELECT students whose major is \"Computer Science\"."
      ],
      "metadata": {
        "id": "7QsQlhD-5VvQ"
      },
      "id": "7QsQlhD-5VvQ"
    },
    {
      "cell_type": "code",
      "source": [
        "cmd1_2 = ''' SELECT * FROM students\n",
        "where major = 'Computer Science' \n",
        "'''"
      ],
      "metadata": {
        "id": "CaV1-hJb5FIa"
      },
      "id": "CaV1-hJb5FIa",
      "execution_count": 17,
      "outputs": []
    },
    {
      "cell_type": "code",
      "source": [
        "cursor.execute(cmd1_2).fetchall()"
      ],
      "metadata": {
        "colab": {
          "base_uri": "https://localhost:8080/"
        },
        "id": "yAX6JENG6IXc",
        "outputId": "00bda086-3cb2-4017-b906-824792d10b7b"
      },
      "id": "yAX6JENG6IXc",
      "execution_count": 18,
      "outputs": [
        {
          "output_type": "execute_result",
          "data": {
            "text/plain": [
              "[(1, 'John', 'Computer Science', 3.5, '01-01-2022'),\n",
              " (6, 'Emily', 'Computer Science', 3.6, '01-06-2022'),\n",
              " (7, 'Michael', 'Computer Science', 3.2, '01-07-2022')]"
            ]
          },
          "metadata": {},
          "execution_count": 18
        }
      ]
    },
    {
      "cell_type": "markdown",
      "source": [
        "#### 1.3 SELECT all unique majors (use SELECT DISTINCT) and order them by name, descending order (i.e. Physics first)."
      ],
      "metadata": {
        "id": "x4tMw5pr619R"
      },
      "id": "x4tMw5pr619R"
    },
    {
      "cell_type": "code",
      "source": [
        "cmd1_3 = ''' SELECT DISTINCT major FROM students\n",
        "ORDER BY major DESC \n",
        "'''"
      ],
      "metadata": {
        "id": "5JCRhVrf6KjQ"
      },
      "id": "5JCRhVrf6KjQ",
      "execution_count": 19,
      "outputs": []
    },
    {
      "cell_type": "code",
      "source": [
        "cursor.execute(cmd1_3).fetchall()"
      ],
      "metadata": {
        "colab": {
          "base_uri": "https://localhost:8080/"
        },
        "id": "L2o5ZJYx72xL",
        "outputId": "32cc3e1e-766c-4a76-bc54-9e1980f7927d"
      },
      "id": "L2o5ZJYx72xL",
      "execution_count": 20,
      "outputs": [
        {
          "output_type": "execute_result",
          "data": {
            "text/plain": [
              "[('Physics',), ('Engineering',), ('Computer Science',)]"
            ]
          },
          "metadata": {},
          "execution_count": 20
        }
      ]
    },
    {
      "cell_type": "markdown",
      "source": [
        "#### 1.4 SELECT all students that have an 'e' in their name and order them by gpa in ascending order."
      ],
      "metadata": {
        "id": "IWq8fWNc8q61"
      },
      "id": "IWq8fWNc8q61"
    },
    {
      "cell_type": "code",
      "source": [
        "cmd1_4 = ''' SELECT * FROM students \n",
        "WHERE name like '%e%' ORDER BY gpa ASC\n",
        "'''"
      ],
      "metadata": {
        "id": "5x58XevQ75sF"
      },
      "id": "5x58XevQ75sF",
      "execution_count": 21,
      "outputs": []
    },
    {
      "cell_type": "code",
      "source": [
        "cursor.execute(cmd1_4).fetchall()"
      ],
      "metadata": {
        "colab": {
          "base_uri": "https://localhost:8080/"
        },
        "id": "eNUo_Rc492cp",
        "outputId": "b0e72d97-d0cd-4f01-e147-54e91637a274"
      },
      "id": "eNUo_Rc492cp",
      "execution_count": 22,
      "outputs": [
        {
          "output_type": "execute_result",
          "data": {
            "text/plain": [
              "[(7, 'Michael', 'Computer Science', 3.2, '01-07-2022'),\n",
              " (6, 'Emily', 'Computer Science', 3.6, '01-06-2022'),\n",
              " (5, 'James', 'Engineering', 3.7, '01-05-2022'),\n",
              " (2, 'Jane', 'Physics', 3.8, '01-02-2022'),\n",
              " (8, 'Jessica', 'Engineering', 3.8, '01-08-2022'),\n",
              " (10, 'Ashley', 'Physics', 3.9, '01-10-2022')]"
            ]
          },
          "metadata": {},
          "execution_count": 22
        }
      ]
    },
    {
      "cell_type": "markdown",
      "source": [
        "## Q2"
      ],
      "metadata": {
        "id": "_uAetLza-HW8"
      },
      "id": "_uAetLza-HW8"
    },
    {
      "cell_type": "code",
      "source": [
        "sql_cmd_2 = \"\"\"\n",
        "CREATE TABLE courses AS\n",
        "    SELECT 1 AS course_id, \"Python programming\" AS course_name, 1 AS student_id, \"A\" AS grade UNION\n",
        "    SELECT 2, \"Data Structures\", 2, \"B\" UNION\n",
        "    SELECT 3, \"Database Systems\", 3, \"B\" UNION\n",
        "    SELECT 1, \"Python programming\", 4, \"A\" UNION\n",
        "    SELECT 4, \"Quantum Mechanics\", 5, \"C\" UNION\n",
        "    SELECT 1, \"Python programming\", 6, \"F\" UNION\n",
        "    SELECT 2, \"Data Structures\", 7, \"C\" UNION\n",
        "    SELECT 3, \"Database Systems\", 8, \"A\" UNION\n",
        "    SELECT 4, \"Quantum Mechanics\", 9, \"A\" UNION\n",
        "    SELECT 2, \"Data Structures\", 10, \"F\";\n",
        "\"\"\""
      ],
      "metadata": {
        "id": "I2nUro5794pO"
      },
      "id": "I2nUro5794pO",
      "execution_count": 23,
      "outputs": []
    },
    {
      "cell_type": "code",
      "source": [
        "cursor.execute(sql_cmd_2)"
      ],
      "metadata": {
        "colab": {
          "base_uri": "https://localhost:8080/"
        },
        "id": "luQglch4-lzX",
        "outputId": "77c18650-4064-4f19-c937-8827c70967b3"
      },
      "id": "luQglch4-lzX",
      "execution_count": 24,
      "outputs": [
        {
          "output_type": "execute_result",
          "data": {
            "text/plain": [
              "<sqlite3.Cursor at 0x7f6ab5d73f80>"
            ]
          },
          "metadata": {},
          "execution_count": 24
        }
      ]
    },
    {
      "cell_type": "markdown",
      "source": [
        "#### 2.1 COUNT the number of unique courses."
      ],
      "metadata": {
        "id": "6emWDF3bAxPM"
      },
      "id": "6emWDF3bAxPM"
    },
    {
      "cell_type": "code",
      "source": [
        "cmd2_1 = ''' SELECT COUNT(DISTINCT course_name) FROM courses'''"
      ],
      "metadata": {
        "id": "7zkEwPYP-3Hy"
      },
      "id": "7zkEwPYP-3Hy",
      "execution_count": 25,
      "outputs": []
    },
    {
      "cell_type": "code",
      "source": [
        "cursor.execute(cmd2_1).fetchall()"
      ],
      "metadata": {
        "colab": {
          "base_uri": "https://localhost:8080/"
        },
        "id": "mPZk3FyYAD9m",
        "outputId": "d795777e-53f1-4534-fe21-29784431e586"
      },
      "id": "mPZk3FyYAD9m",
      "execution_count": 26,
      "outputs": [
        {
          "output_type": "execute_result",
          "data": {
            "text/plain": [
              "[(4,)]"
            ]
          },
          "metadata": {},
          "execution_count": 26
        }
      ]
    },
    {
      "cell_type": "markdown",
      "source": [
        "#### 2.2 JOIN the tables students and courses and COUNT the number of students with the major Computer Science taking the course Python programming."
      ],
      "metadata": {
        "id": "elyHcY5ZA3li"
      },
      "id": "elyHcY5ZA3li"
    },
    {
      "cell_type": "code",
      "source": [
        "cmd2_2 = ''' \n",
        "SELECT COUNT(*)\n",
        "FROM students as s JOIN courses as c \n",
        "ON s.student_id = c.student_id\n",
        "WHERE s.major = 'Computer Science' AND c.course_name = 'Python programming';\n",
        "'''"
      ],
      "metadata": {
        "id": "IBGpteKZAH_Q"
      },
      "id": "IBGpteKZAH_Q",
      "execution_count": 27,
      "outputs": []
    },
    {
      "cell_type": "code",
      "source": [
        "cursor.execute(cmd2_2).fetchall()"
      ],
      "metadata": {
        "colab": {
          "base_uri": "https://localhost:8080/"
        },
        "id": "rjT3tOqHCg-v",
        "outputId": "7048a12b-5d65-4ac4-f797-4723d2263e0b"
      },
      "id": "rjT3tOqHCg-v",
      "execution_count": 28,
      "outputs": [
        {
          "output_type": "execute_result",
          "data": {
            "text/plain": [
              "[(2,)]"
            ]
          },
          "metadata": {},
          "execution_count": 28
        }
      ]
    },
    {
      "cell_type": "markdown",
      "source": [
        "#### 2.3 JOIN the tables students and courses and select the students who have grades higher than \"C\", only show their name, major, gpa, course_name and grade."
      ],
      "metadata": {
        "id": "NL358X7JDL_4"
      },
      "id": "NL358X7JDL_4"
    },
    {
      "cell_type": "code",
      "source": [
        "cmd2_3 = '''\n",
        "SELECT name, major, gpa, course_name, grade\n",
        "FROM students as s JOIN courses as c\n",
        "ON s.student_id = c.student_id\n",
        "WHERE c.grade > 'C'\n",
        "'''"
      ],
      "metadata": {
        "id": "8COTmNbICy_q"
      },
      "id": "8COTmNbICy_q",
      "execution_count": 29,
      "outputs": []
    },
    {
      "cell_type": "code",
      "source": [
        "cursor.execute(cmd2_3).fetchall()"
      ],
      "metadata": {
        "colab": {
          "base_uri": "https://localhost:8080/"
        },
        "id": "balFSyBSD-3N",
        "outputId": "0ae46dc6-683b-41f9-958c-c5ba138f08fb"
      },
      "id": "balFSyBSD-3N",
      "execution_count": 30,
      "outputs": [
        {
          "output_type": "execute_result",
          "data": {
            "text/plain": [
              "[('Emily', 'Computer Science', 3.6, 'Python programming', 'F'),\n",
              " ('Ashley', 'Physics', 3.9, 'Data Structures', 'F')]"
            ]
          },
          "metadata": {},
          "execution_count": 30
        }
      ]
    },
    {
      "cell_type": "markdown",
      "source": [
        "## Q3"
      ],
      "metadata": {
        "id": "9hGPm5YEELhH"
      },
      "id": "9hGPm5YEELhH"
    },
    {
      "cell_type": "markdown",
      "source": [
        "#### 3.1 Find the average gpa of all students."
      ],
      "metadata": {
        "id": "I-ZjSD0aERjb"
      },
      "id": "I-ZjSD0aERjb"
    },
    {
      "cell_type": "code",
      "source": [
        "cmd3_1 = '''\n",
        "SELECT AVG(gpa) FROM students\n",
        "'''"
      ],
      "metadata": {
        "id": "BnzSzbMwECqD"
      },
      "id": "BnzSzbMwECqD",
      "execution_count": 31,
      "outputs": []
    },
    {
      "cell_type": "code",
      "source": [
        "cursor.execute(cmd3_1).fetchall()"
      ],
      "metadata": {
        "colab": {
          "base_uri": "https://localhost:8080/"
        },
        "id": "Ga06hyw5ElUT",
        "outputId": "13b04f1b-0143-449d-ec07-92ba8dd5947e"
      },
      "id": "Ga06hyw5ElUT",
      "execution_count": 32,
      "outputs": [
        {
          "output_type": "execute_result",
          "data": {
            "text/plain": [
              "[(3.5800000000000005,)]"
            ]
          },
          "metadata": {},
          "execution_count": 32
        }
      ]
    },
    {
      "cell_type": "markdown",
      "source": [
        "#### 3.2 SELECT the student with the maximum gpa, display only their student_id, major and gpa"
      ],
      "metadata": {
        "id": "bp0xQ8rrEr-c"
      },
      "id": "bp0xQ8rrEr-c"
    },
    {
      "cell_type": "code",
      "source": [
        "cmd3_2 = '''\n",
        "SELECT student_id, major, gpa\n",
        "FROM students\n",
        "WHERE gpa = (SELECT MAX(gpa) FROM students);\n",
        "'''"
      ],
      "metadata": {
        "id": "GePVh8gNEpUv"
      },
      "id": "GePVh8gNEpUv",
      "execution_count": 33,
      "outputs": []
    },
    {
      "cell_type": "code",
      "source": [
        "cursor.execute(cmd3_2).fetchall()"
      ],
      "metadata": {
        "colab": {
          "base_uri": "https://localhost:8080/"
        },
        "id": "eZ4LykeOFM_y",
        "outputId": "52d9415e-0fb0-4c47-f40e-8b5f232f3c80"
      },
      "id": "eZ4LykeOFM_y",
      "execution_count": 34,
      "outputs": [
        {
          "output_type": "execute_result",
          "data": {
            "text/plain": [
              "[(4, 'Physics', 3.9), (10, 'Physics', 3.9)]"
            ]
          },
          "metadata": {},
          "execution_count": 34
        }
      ]
    },
    {
      "cell_type": "markdown",
      "source": [
        "#### 3.3 SELECT the student with the minimum gpa, display only their student_id, major and gpa"
      ],
      "metadata": {
        "id": "wklMcUBJFSIp"
      },
      "id": "wklMcUBJFSIp"
    },
    {
      "cell_type": "code",
      "source": [
        "cmd3_3 = '''\n",
        "SELECT student_id, major, gpa\n",
        "FROM students\n",
        "WHERE gpa = (SELECT MIN(gpa) FROM students);\n",
        "'''"
      ],
      "metadata": {
        "id": "XTtR4pFfFQqc"
      },
      "id": "XTtR4pFfFQqc",
      "execution_count": 35,
      "outputs": []
    },
    {
      "cell_type": "code",
      "source": [
        "cursor.execute(cmd3_3).fetchall()"
      ],
      "metadata": {
        "colab": {
          "base_uri": "https://localhost:8080/"
        },
        "id": "WlGyGrzFFa1o",
        "outputId": "f92eb421-a778-476a-a693-952a94a71af9"
      },
      "id": "WlGyGrzFFa1o",
      "execution_count": 36,
      "outputs": [
        {
          "output_type": "execute_result",
          "data": {
            "text/plain": [
              "[(3, 'Engineering', 3.0)]"
            ]
          },
          "metadata": {},
          "execution_count": 36
        }
      ]
    },
    {
      "cell_type": "markdown",
      "source": [
        "#### 3.4 SELECT the students with a gpa greater than 3.6 in the majors of \"Physics\" and \"Engineering\", display only their student_id, major and gpa"
      ],
      "metadata": {
        "id": "z6JiE2d1Ff9S"
      },
      "id": "z6JiE2d1Ff9S"
    },
    {
      "cell_type": "code",
      "source": [
        "cmd3_4 = '''\n",
        "SELECT student_id, major, gpa\n",
        "FROM students\n",
        "WHERE gpa > 3.6 AND major = 'Physics';\n",
        "'''"
      ],
      "metadata": {
        "id": "sdDwjR_2FcoB"
      },
      "id": "sdDwjR_2FcoB",
      "execution_count": 37,
      "outputs": []
    },
    {
      "cell_type": "code",
      "source": [
        "cursor.execute(cmd3_4).fetchall()"
      ],
      "metadata": {
        "colab": {
          "base_uri": "https://localhost:8080/"
        },
        "id": "iHjflLuJF_XT",
        "outputId": "591159e6-0b99-4920-d743-ee598346e262"
      },
      "id": "iHjflLuJF_XT",
      "execution_count": 38,
      "outputs": [
        {
          "output_type": "execute_result",
          "data": {
            "text/plain": [
              "[(2, 'Physics', 3.8), (4, 'Physics', 3.9), (10, 'Physics', 3.9)]"
            ]
          },
          "metadata": {},
          "execution_count": 38
        }
      ]
    },
    {
      "cell_type": "markdown",
      "source": [
        "#### 3.5 Group the students by their major and retrieve the average grade of each major."
      ],
      "metadata": {
        "id": "Dfu-bQ09GGRr"
      },
      "id": "Dfu-bQ09GGRr"
    },
    {
      "cell_type": "code",
      "source": [
        "cmd3_5 = '''\n",
        "SELECT s.major, AVG(c.grade) FROM\n",
        "students as s JOIN courses as c\n",
        "ON s.student_id = c.student_id\n",
        "GROUP BY s.major;\n",
        "'''"
      ],
      "metadata": {
        "id": "_-ZI1x_JGDQO"
      },
      "id": "_-ZI1x_JGDQO",
      "execution_count": 39,
      "outputs": []
    },
    {
      "cell_type": "code",
      "source": [
        "cursor.execute(cmd3_5).fetchall()"
      ],
      "metadata": {
        "colab": {
          "base_uri": "https://localhost:8080/"
        },
        "id": "n6m5dVTUGiuz",
        "outputId": "bb2c262b-13e3-47bd-b4dd-83ab6ba767f1"
      },
      "id": "n6m5dVTUGiuz",
      "execution_count": 40,
      "outputs": [
        {
          "output_type": "execute_result",
          "data": {
            "text/plain": [
              "[('Computer Science', 0.0), ('Engineering', 0.0), ('Physics', 0.0)]"
            ]
          },
          "metadata": {},
          "execution_count": 40
        }
      ]
    },
    {
      "cell_type": "markdown",
      "source": [
        "**We can't apply average on string and here grades are in string format. So, I am finding out the average \"gpa\".**"
      ],
      "metadata": {
        "id": "UQ7PgmdCICxW"
      },
      "id": "UQ7PgmdCICxW"
    },
    {
      "cell_type": "code",
      "source": [
        "cmd3_5 = '''\n",
        "SELECT major, AVG(gpa) \n",
        "FROM students\n",
        "GROUP BY major;\n",
        "'''"
      ],
      "metadata": {
        "id": "up6qnRBVGm20"
      },
      "id": "up6qnRBVGm20",
      "execution_count": 41,
      "outputs": []
    },
    {
      "cell_type": "code",
      "source": [
        "cursor.execute(cmd3_5).fetchall()"
      ],
      "metadata": {
        "colab": {
          "base_uri": "https://localhost:8080/"
        },
        "id": "-9t8h4HVJHN5",
        "outputId": "325177f0-f6fb-45f5-b451-9caebd323a29"
      },
      "id": "-9t8h4HVJHN5",
      "execution_count": 42,
      "outputs": [
        {
          "output_type": "execute_result",
          "data": {
            "text/plain": [
              "[('Computer Science', 3.4333333333333336),\n",
              " ('Engineering', 3.5),\n",
              " ('Physics', 3.75)]"
            ]
          },
          "metadata": {},
          "execution_count": 42
        }
      ]
    },
    {
      "cell_type": "markdown",
      "source": [
        "#### 3.6 SELECT the top 2 students with the highest GPA in each major and order the results by major in ascending order, then by GPA in descending order"
      ],
      "metadata": {
        "id": "UiAFOAUyJW1c"
      },
      "id": "UiAFOAUyJW1c"
    },
    {
      "cell_type": "code",
      "source": [
        "cmd3_6 = '''SELECT major, MAX(gpa)\n",
        "FROM students\n",
        "GROUP BY major \n",
        "ORDER BY major ASC, gpa DESC\n",
        "LIMIT 2\n",
        "'''"
      ],
      "metadata": {
        "id": "EBaG7y3YJIQB"
      },
      "id": "EBaG7y3YJIQB",
      "execution_count": 43,
      "outputs": []
    },
    {
      "cell_type": "code",
      "source": [
        "cursor.execute(cmd3_6).fetchall()"
      ],
      "metadata": {
        "colab": {
          "base_uri": "https://localhost:8080/"
        },
        "id": "beWXnAF7KxPz",
        "outputId": "d4c3781a-7381-481b-ce0d-03914fc32fa0"
      },
      "id": "beWXnAF7KxPz",
      "execution_count": 44,
      "outputs": [
        {
          "output_type": "execute_result",
          "data": {
            "text/plain": [
              "[('Computer Science', 3.6), ('Engineering', 3.8)]"
            ]
          },
          "metadata": {},
          "execution_count": 44
        }
      ]
    }
  ],
  "metadata": {
    "kernelspec": {
      "display_name": "Python 3 (ipykernel)",
      "language": "python",
      "name": "python3"
    },
    "language_info": {
      "codemirror_mode": {
        "name": "ipython",
        "version": 3
      },
      "file_extension": ".py",
      "mimetype": "text/x-python",
      "name": "python",
      "nbconvert_exporter": "python",
      "pygments_lexer": "ipython3",
      "version": "3.9.15"
    },
    "colab": {
      "provenance": []
    }
  },
  "nbformat": 4,
  "nbformat_minor": 5
}